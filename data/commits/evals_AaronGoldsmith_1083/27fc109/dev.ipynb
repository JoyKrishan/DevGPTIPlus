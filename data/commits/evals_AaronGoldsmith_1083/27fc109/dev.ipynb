    "data_path = \"data\""
    "registry_path = os.path.join(os.getcwd(), \"../evals/registry\")"
    "subjects = sorted([f.split(\"_test.csv\")[0] for f in os.listdir(os.path.join(data_path, \"test\")) if \"_test.csv\" in f])\n",
    "    subject_path = os.path.join(registry_path, \"data\", \"mmlu\", subject)\n",
    "    os.makedirs(subject_path, exist_ok=True)\n",
    "    dev_df = pd.read_csv(os.path.join(data_path, \"dev\", subject + \"_dev.csv\"), names=(\"Question\", \"A\", \"B\", \"C\", \"D\", \"Answer\"))\n",
    "    few_shot_path = os.path.join(subject_path, \"few_shot.jsonl\")     \n",
    "    dev_df[[\"sample\"]].to_json(few_shot_path, lines=True, orient=\"records\")\n",
    "    test_df = pd.read_csv(os.path.join(data_path, \"test\", subject + \"_test.csv\"), names=(\"Question\", \"A\", \"B\", \"C\", \"D\", \"Answer\"))\n",
    "    samples_path = os.path.join(subject_path, \"samples.jsonl\")     \n",
    "    test_df[[\"input\", \"ideal\"]].to_json(samples_path, lines=True, orient=\"records\")\n",
    "            \"samples_jsonl\": samples_path,\n",
    "            \"few_shot_jsonl\": few_shot_path,\n",
    "with open(os.path.join(registry_path, \"evals\", \"mmlu.yaml\"), \"w\") as f:\n",