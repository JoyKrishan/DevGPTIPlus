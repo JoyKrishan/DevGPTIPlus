  },
  {
   "cell_type": "markdown",
   "metadata": {},
   "source": [
    "6. ``fold``: Collapses all columns after a specific column into one column in the output table"
   ]
  },
  {
   "cell_type": "code",
   "execution_count": 2,
   "metadata": {},
   "outputs": [
    {
     "name": "stdout",
     "output_type": "stream",
     "text": [
      "start\n",
      "  command\t{'fold': {'table': Token('NAME', 'table1'), 'column': Tree(Token('RULE', 'label'), [Token('NAME', 'a')])}}\n",
      "\n",
      "Executing command: Tree(Token('RULE', 'command'), [{'fold': {'table': Token('NAME', 'table1'), 'column': Tree(Token('RULE', 'label'), [Token('NAME', 'a')])}}])\n",
      "Table before column split:\n",
      "     a   b   c\n",
      "0  a1  b1  c1\n",
      "1  a2  b2  c2\n",
      "2  a3  b3  c3\n",
      "Table after column split:\n",
      "     a folded_value\n",
      "0  a1           b1\n",
      "1  a1           c1\n",
      "2  a2           b2\n",
      "3  a2           c2\n",
      "4  a3           b3\n",
      "5  a3           c3\n"
     ]
    }
   ],
   "source": [
    "table1 = pd.DataFrame(\n",
    "    {\n",
    "        \"a\": [\"a1\", \"a2\", \"a3\"],\n",
    "        \"b\": [\"b1\", \"b2\", \"b3\"],\n",
    "        \"c\": [\"c1\", \"c2\", \"c3\"],\n",
    "    }\n",
    ")\n",
    "tables = {\n",
    "    \"table1\": table1,\n",
    "}\n",
    "\n",
    "dsl_code = \"\"\"\n",
    "    fold(table=table1, column=a)\n",
    "\"\"\"\n",
    "\n",
    "execute_dsl(tables, dsl_code)"
   ]