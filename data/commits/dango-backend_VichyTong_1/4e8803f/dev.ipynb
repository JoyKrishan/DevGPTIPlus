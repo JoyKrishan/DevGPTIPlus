  },
  {
   "cell_type": "markdown",
   "metadata": {},
   "source": [
    "7. ``unfold``: \"Unflatten\" tables and move information from data values to column names"
   ]
  },
  {
   "cell_type": "code",
   "execution_count": 5,
   "metadata": {},
   "outputs": [
    {
     "name": "stdout",
     "output_type": "stream",
     "text": [
      "start\n",
      "  command\t{'unfold': {'table': Token('NAME', 'table1')}}\n",
      "\n",
      "Executing command: Tree(Token('RULE', 'command'), [{'unfold': {'table': Token('NAME', 'table1')}}])\n",
      "Table before column split:\n",
      "     a   b\n",
      "0  a1  b1\n",
      "1  a1  c1\n",
      "2  a2  b2\n",
      "3  a2  c2\n",
      "4  a3  b3\n",
      "5  a3  c3\n",
      "Table after column split:\n",
      "     a col_0 col_1\n",
      "0  a1    b1    c1\n",
      "1  a2    b2    c2\n",
      "2  a3    b3    c3\n"
     ]
    }
   ],
   "source": [
    "table1 = pd.DataFrame(\n",
    "    {\n",
    "        \"a\": [\"a1\", \"a1\", \"a2\", \"a2\", \"a3\", \"a3\"],\n",
    "        \"b\": [\"b1\", \"c1\", \"b2\", \"c2\", \"b3\", \"c3\"],\n",
    "    }\n",
    ")\n",
    "tables = {\n",
    "    \"table1\": table1,\n",
    "}\n",
    "\n",
    "dsl_code = \"\"\"\n",
    "    unfold(table=table1)\n",
    "\"\"\"\n",
    "\n",
    "execute_dsl(tables, dsl_code)"
   ]
  },
  {
   "cell_type": "markdown",
   "metadata": {},
   "source": [
    "8. ``Transpose``: Transpose the rows and columns of the table"
   ]
  },
  {
   "cell_type": "code",
   "execution_count": 2,
   "metadata": {},
   "outputs": [
    {
     "name": "stdout",
     "output_type": "stream",
     "text": [
      "start\n",
      "  command\t{'transpose': {'table': Token('NAME', 'table1')}}\n",
      "\n",
      "Executing command: Tree(Token('RULE', 'command'), [{'transpose': {'table': Token('NAME', 'table1')}}])\n",
      "Table before transpose:\n",
      "     a   b   c\n",
      "0  a1  b1  c1\n",
      "1  a2  b2  c2\n",
      "2  a3  b3  c3\n",
      "Table after transpose:\n",
      "     0   1   2\n",
      "a  a1  a2  a3\n",
      "b  b1  b2  b3\n",
      "c  c1  c2  c3\n"
     ]
    }
   ],
   "source": [
    "table1 = pd.DataFrame(\n",
    "    {\n",
    "        \"a\": [\"a1\", \"a2\", \"a3\"],\n",
    "        \"b\": [\"b1\", \"b2\", \"b3\"],\n",
    "        \"c\": [\"c1\", \"c2\", \"c3\"],\n",
    "    }\n",
    ")\n",
    "tables = {\n",
    "    \"table1\": table1,\n",
    "}\n",
    "\n",
    "dsl_code = \"\"\"\n",
    "    transpose(table=table1)\n",
    "\"\"\"\n",
    "\n",
    "execute_dsl(tables, dsl_code)"
   ]